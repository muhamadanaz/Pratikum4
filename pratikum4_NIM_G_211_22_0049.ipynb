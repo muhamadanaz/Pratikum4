{
  "nbformat": 4,
  "nbformat_minor": 0,
  "metadata": {
    "colab": {
      "provenance": [],
      "authorship_tag": "ABX9TyPYplZP5geIEvdxTD0oV3Gd",
      "include_colab_link": true
    },
    "kernelspec": {
      "name": "python3",
      "display_name": "Python 3"
    },
    "language_info": {
      "name": "python"
    }
  },
  "cells": [
    {
      "cell_type": "markdown",
      "metadata": {
        "id": "view-in-github",
        "colab_type": "text"
      },
      "source": [
        "<a href=\"https://colab.research.google.com/github/muhamadanaz/Pratikum4/blob/main/pratikum4_NIM_G_211_22_0049.ipynb\" target=\"_parent\"><img src=\"https://colab.research.google.com/assets/colab-badge.svg\" alt=\"Open In Colab\"/></a>"
      ]
    },
    {
      "cell_type": "code",
      "execution_count": 1,
      "metadata": {
        "colab": {
          "base_uri": "https://localhost:8080/"
        },
        "id": "D9bzYo60G-tu",
        "outputId": "8d5fe2e4-29a6-4d74-bb48-1e91e9b5ed91"
      },
      "outputs": [
        {
          "output_type": "stream",
          "name": "stdout",
          "text": [
            "Apakah \"The quick brown fox jumps over the lazy dog\" adalah pangram? True\n",
            "Apakah \"Hello World\" adalah pangram? False\n"
          ]
        }
      ],
      "source": [
        "def is_pangram(sentence):\n",
        "    # Konversi semua karakter menjadi huruf kecil\n",
        "    sentence = sentence.lower()\n",
        "\n",
        "    # Inisialisasi set kosong untuk menyimpan huruf-huruf yang telah ditemukan\n",
        "    found_letters = set()\n",
        "\n",
        "    # Loop melalui setiap karakter dalam kalimat\n",
        "    for char in sentence:\n",
        "        # Jika karakter adalah huruf, tambahkan ke set\n",
        "        if char.isalpha():\n",
        "            found_letters.add(char)\n",
        "\n",
        "    # Periksa apakah set huruf yang ditemukan mencakup semua huruf alfabet\n",
        "    return len(found_letters) == 26\n",
        "\n",
        "\n",
        "# Contoh penggunaan\n",
        "kalimat1 = \"The quick brown fox jumps over the lazy dog\"\n",
        "kalimat2 = \"Hello World\"\n",
        "\n",
        "print(f'Apakah \"{kalimat1}\" adalah pangram? {is_pangram(kalimat1)}')\n",
        "print(f'Apakah \"{kalimat2}\" adalah pangram? {is_pangram(kalimat2)}')\n"
      ]
    }
  ]
}